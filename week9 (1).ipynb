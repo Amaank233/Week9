{
  "nbformat": 4,
  "nbformat_minor": 0,
  "metadata": {
    "colab": {
      "provenance": []
    },
    "kernelspec": {
      "name": "python3",
      "display_name": "Python 3"
    },
    "language_info": {
      "name": "python"
    }
  },
  "cells": [
    {
      "cell_type": "code",
      "source": [
        "from google.colab import drive\n",
        "drive.mount('/content/drive')"
      ],
      "metadata": {
        "colab": {
          "base_uri": "https://localhost:8080/"
        },
        "id": "DfWR4rUty6vg",
        "outputId": "faff84b0-846b-4fbc-ea05-109c13f971ff"
      },
      "execution_count": null,
      "outputs": [
        {
          "output_type": "stream",
          "name": "stdout",
          "text": [
            "Drive already mounted at /content/drive; to attempt to forcibly remount, call drive.mount(\"/content/drive\", force_remount=True).\n"
          ]
        }
      ]
    },
    {
      "cell_type": "code",
      "source": [
        "# Handling missing values using mean imputation and z score methods\n",
        "import pandas as pd\n",
        "from scipy import stats\n",
        "import numpy as np\n",
        "\n",
        "df = pd.read_csv('/content/drive/MyDrive/Test.csv')\n",
        "\n",
        "df.fillna(df.mean(), inplace=True)\n",
        "\n",
        "z_scores = stats.zscore(df.select_dtypes(include=[np.number])) # Only select numeric columns\n",
        "abs_z_scores = np.abs(z_scores)\n",
        "filtered_entries = (abs_z_scores < 3).all(axis=1)\n",
        "new_df = df[filtered_entries]\n",
        "\n",
        "print(new_df.head())"
      ],
      "metadata": {
        "id": "mWt_qsRk2zbH"
      },
      "execution_count": null,
      "outputs": []
    },
    {
      "cell_type": "code",
      "source": [
        "#Handling Missing Values using interpolation and robust scaler\n",
        "import pandas as pd\n",
        "from sklearn.preprocessing import RobustScaler\n",
        "\n",
        "df = pd.read_csv('/content/drive/MyDrive/Test.csv')\n",
        "\n",
        "df.interpolate(method='linear', inplace=True)\n",
        "\n",
        "scaler = RobustScaler()\n",
        "df_robust = pd.DataFrame(scaler.fit_transform(df), columns=df.columns)\n",
        "\n",
        "print(df_robust.head())\n"
      ],
      "metadata": {
        "id": "bYjSvTDk20Ct"
      },
      "execution_count": null,
      "outputs": []
    }
  ]
}